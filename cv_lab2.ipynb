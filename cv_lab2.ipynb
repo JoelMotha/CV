{
 "cells": [
  {
   "cell_type": "code",
   "execution_count": 2,
   "metadata": {},
   "outputs": [
    {
     "name": "stdout",
     "output_type": "stream",
     "text": [
      "Saved frame 0 and its color channels.\n",
      "Saved frame 1 and its color channels.\n"
     ]
    }
   ],
   "source": [
    "import cv2\n",
    "import matplotlib.pyplot as plt\n",
    "import numpy as np\n",
    "import os\n",
    "\n",
    "# Load the video\n",
    "video_path = \"le_mans.mp4\"  # Replace with your video file path\n",
    "cap = cv2.VideoCapture(video_path)\n",
    "\n",
    "# Check if the video opened successfully\n",
    "if not cap.isOpened():\n",
    "    print(\"Error: Could not open video.\")\n",
    "    exit()\n",
    "\n",
    "frame_interval = 30  # Extract one frame every 30 frames\n",
    "frame_count = 0\n",
    "save_count = 0  # Counter for saved frames\n",
    "\n",
    "# Create output directory if not exists\n",
    "output_dir = \"extracted_frames\"\n",
    "os.makedirs(output_dir, exist_ok=True)\n",
    "\n",
    "while cap.isOpened():\n",
    "    ret, frame = cap.read()\n",
    "    \n",
    "    if not ret:\n",
    "        break  # Exit loop if no frame is read\n",
    "\n",
    "    # Extract frames at specific intervals\n",
    "    if frame_count % frame_interval == 0:\n",
    "        # Convert frame from BGR to RGB\n",
    "        frame_rgb = cv2.cvtColor(frame, cv2.COLOR_BGR2RGB)\n",
    "\n",
    "        # Split channels\n",
    "        red_channel = frame_rgb.copy()\n",
    "        red_channel[:, :, 1] = 0  # Set green to 0\n",
    "        red_channel[:, :, 2] = 0  # Set blue to 0\n",
    "\n",
    "        green_channel = frame_rgb.copy()\n",
    "        green_channel[:, :, 0] = 0  # Set red to 0\n",
    "        green_channel[:, :, 2] = 0  # Set blue to 0\n",
    "\n",
    "        blue_channel = frame_rgb.copy()\n",
    "        blue_channel[:, :, 0] = 0  # Set red to 0\n",
    "        blue_channel[:, :, 1] = 0  # Set green to 0\n",
    "\n",
    "        # Save images separately\n",
    "        plt.imsave(os.path.join(output_dir, f\"frame_{save_count}.png\"), frame_rgb)\n",
    "        plt.imsave(os.path.join(output_dir, f\"red_channel_{save_count}.png\"), red_channel)\n",
    "        plt.imsave(os.path.join(output_dir, f\"green_channel_{save_count}.png\"), green_channel)\n",
    "        plt.imsave(os.path.join(output_dir, f\"blue_channel_{save_count}.png\"), blue_channel)\n",
    "\n",
    "        print(f\"Saved frame {save_count} and its color channels.\")\n",
    "\n",
    "        save_count += 1\n",
    "\n",
    "    frame_count += 1\n",
    "\n",
    "# Release video capture\n",
    "cap.release()\n",
    "cv2.destroyAllWindows()\n"
   ]
  },
  {
   "cell_type": "code",
   "execution_count": null,
   "metadata": {},
   "outputs": [],
   "source": []
  }
 ],
 "metadata": {
  "kernelspec": {
   "display_name": "base",
   "language": "python",
   "name": "python3"
  },
  "language_info": {
   "codemirror_mode": {
    "name": "ipython",
    "version": 3
   },
   "file_extension": ".py",
   "mimetype": "text/x-python",
   "name": "python",
   "nbconvert_exporter": "python",
   "pygments_lexer": "ipython3",
   "version": "3.11.7"
  }
 },
 "nbformat": 4,
 "nbformat_minor": 2
}
